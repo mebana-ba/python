{
  "nbformat": 4,
  "nbformat_minor": 0,
  "metadata": {
    "colab": {
      "provenance": []
    },
    "kernelspec": {
      "name": "python3",
      "display_name": "Python 3"
    },
    "language_info": {
      "name": "python"
    }
  },
  "cells": [
    {
      "cell_type": "code",
      "execution_count": null,
      "metadata": {
        "id": "eB2zHrCt0gxs"
      },
      "outputs": [],
      "source": []
    },
    {
      "cell_type": "markdown",
      "source": [
        "\n",
        "\n",
        "1. What is the difference between a function and a method in Python?\n",
        "-A function is an independent block of reusable code that performs a specific task, while a method is a function that belongs to an object (usually associated with classes).\n",
        "\n",
        "Example:\n",
        "\n",
        "python\n",
        "Copy\n",
        "Edit\n",
        "# Function (Independent)\n",
        "def greet(name):\n",
        "    return f\"Hello, {name}!\"\n",
        "\n",
        "print(greet(\"Alice\"))  # Function call\n",
        "\n",
        "# Method (Belongs to a class)\n",
        "class Person:\n",
        "    def __init__(self, name):\n",
        "        self.name = name\n",
        "    \n",
        "    def greet(self):  # Method\n",
        "        return f\"Hello, {self.name}!\"\n",
        "\n",
        "p = Person(\"Bob\")\n",
        "print(p.greet())  # Method call\n",
        "2. Explain the concept of function arguments and parameters in Python.\n",
        "-Parameters are variables listed in the function definition.\n",
        "\n",
        "Arguments are values passed to the function when calling it.\n",
        "\n",
        "Example:\n",
        "\n",
        "python\n",
        "Copy\n",
        "Edit\n",
        "# Parameters: x and y\n",
        "def add(x, y):\n",
        "    return x + y\n",
        "\n",
        "# Arguments: 5 and 3\n",
        "result = add(5, 3)\n",
        "print(result)  # Output: 8\n",
        "3. What are the different ways to define and call a function in Python?\n",
        "-Python supports multiple ways to define and call functions:\n",
        "\n",
        "(a) Normal Function\n",
        "python\n",
        "Copy\n",
        "Edit\n",
        "def multiply(a, b):\n",
        "    return a * b\n",
        "\n",
        "print(multiply(4, 5))  # Output: 20\n",
        "(b) Function with Default Parameters\n",
        "python\n",
        "Copy\n",
        "Edit\n",
        "def greet(name=\"Guest\"):\n",
        "    return f\"Hello, {name}!\"\n",
        "\n",
        "print(greet())         # Output: Hello, Guest!\n",
        "print(greet(\"John\"))   # Output: Hello, John!\n",
        "(c) Function with Variable-Length Arguments (*args, **kwargs)\n",
        "python\n",
        "Copy\n",
        "Edit\n",
        "def total_sum(*numbers):\n",
        "    return sum(numbers)\n",
        "\n",
        "print(total_sum(1, 2, 3, 4))  # Output: 10\n",
        "4. What is the purpose of the return statement in a Python function?\n",
        "-The return statement is used to send a value back from a function to the caller.\n",
        "\n",
        "Example:\n",
        "\n",
        "python\n",
        "Copy\n",
        "Edit\n",
        "def square(num):\n",
        "    return num * num\n",
        "\n",
        "result = square(5)\n",
        "print(result)  # Output: 25\n",
        "5. What are iterators in Python and how do they differ from iterables?\n",
        "-Iterable: An object that contains multiple elements (e.g., list, tuple, dictionary). It can be looped over.\n",
        "\n",
        "Iterator: An object that implements the __iter__() and __next__() methods and retrieves elements one at a time.\n",
        "\n",
        "Example:\n",
        "\n",
        "python\n",
        "Copy\n",
        "Edit\n",
        "# Iterable (list)\n",
        "numbers = [1, 2, 3]\n",
        "\n",
        "# Creating an iterator from the list\n",
        "iterator = iter(numbers)\n",
        "\n",
        "print(next(iterator))  # Output: 1\n",
        "print(next(iterator))  # Output: 2\n",
        "print(next(iterator))  # Output: 3\n",
        "6. Explain the concept of generators in Python and how they are defined.\n",
        "-A generator is a function that returns an iterator and uses yield instead of return to produce values lazily.\n",
        "\n",
        "Example:\n",
        "\n",
        "python\n",
        "Copy\n",
        "Edit\n",
        "def count_up():\n",
        "    n = 1\n",
        "    while n <= 3:\n",
        "        yield n\n",
        "        n += 1\n",
        "\n",
        "gen = count_up()\n",
        "print(next(gen))  # Output: 1\n",
        "print(next(gen))  # Output: 2\n",
        "print(next(gen))  # Output: 3\n",
        "7. What are the advantages of using generators over regular functions?\n",
        "Memory Efficient: Generates values one by one instead of storing them in memory.\n",
        "\n",
        "-Lazy Evaluation: Computes values only when needed.\n",
        "\n",
        "Simpler Code: No need for managing state manually.\n",
        "\n",
        "8. What is a lambda function in Python and when is it typically used?\n",
        "-A lambda function is a small anonymous function defined using the lambda keyword. It is typically used when a function is needed for a short period.\n",
        "\n",
        "Example:\n",
        "\n",
        "python\n",
        "Copy\n",
        "Edit\n",
        "# Lambda function to add two numbers\n",
        "add = lambda x, y: x + y\n",
        "\n",
        "print(add(3, 5))  # Output: 8\n",
        "9. Explain the purpose and usage of the map() function in Python.\n",
        "-The map() function applies a given function to all elements of an iterable.\n",
        "\n",
        "Example:\n",
        "\n",
        "python\n",
        "Copy\n",
        "Edit\n",
        "numbers = [1, 2, 3, 4]\n",
        "squared = list(map(lambda x: x * x, numbers))\n",
        "\n",
        "print(squared)  # Output: [1, 4, 9, 16]\n",
        "10. What is the difference between map(), reduce(), and filter() functions in Python?\n",
        "-Function\tPurpose\tExample\n",
        "map()\tApplies a function to each element of an iterable\tmap(lambda x: x*2, [1,2,3]) → [2,4,6]\n",
        "filter()\tFilters elements based on a condition\tfilter(lambda x: x%2==0, [1,2,3]) → [2]\n",
        "reduce()\tReduces an iterable to a single value\treduce(lambda x,y: x+y, [1,2,3]) → 6\n",
        "Example:\n",
        "\n",
        "python\n",
        "Copy\n",
        "Edit\n",
        "from functools import reduce\n",
        "\n",
        "nums = [1, 2, 3, 4]\n",
        "\n",
        "# Using map()\n",
        "squared = list(map(lambda x: x * x, nums))\n",
        "print(squared)  # Output: [1, 4, 9, 16]\n",
        "\n",
        "# Using filter()\n",
        "evens = list(filter(lambda x: x % 2 == 0, nums))\n",
        "print(evens)  # Output: [2, 4]\n",
        "\n",
        "# Using reduce()\n",
        "sum_all = reduce(lambda x, y: x + y, nums)\n",
        "print(sum_all)  # Output: 10\n",
        "11. Using pen & paper, write the internal mechanism for sum operation using reduce() function on the given list [47,11,42,13].\n",
        "-The reduce() function performs the following steps:\n",
        "\n",
        "Step-by-Step Execution:\n",
        "\n",
        "python\n",
        "Copy\n",
        "Edit\n",
        "from functools import reduce\n",
        "\n",
        "numbers = [47, 11, 42, 13]\n",
        "\n",
        "# Using reduce() to compute sum\n",
        "sum_result = reduce(lambda x, y: x + y, numbers)\n",
        "print(sum_result)  # Output: 113\n",
        "Internal Mechanism:\n",
        "\n",
        "First, reduce() takes the first two elements:\n",
        "47 + 11 = 58\n",
        "\n",
        "Then, it adds the result to the next element:\n",
        "58 + 42 = 100\n",
        "\n",
        "Finally, it adds the last element:\n",
        "100 + 13 = 113\n",
        "\n",
        "Thus, the final result is 113."
      ],
      "metadata": {
        "id": "jSXdBB6i029s"
      }
    },
    {
      "cell_type": "markdown",
      "source": [
        "## **Parctical Questions**"
      ],
      "metadata": {
        "id": "LzdxVkA3C1LC"
      }
    },
    {
      "cell_type": "markdown",
      "source": [],
      "metadata": {
        "id": "bv5Koe2L0lED"
      }
    },
    {
      "cell_type": "code",
      "source": [
        "# 1. Write a Python function that takes a list of numbers as input and returns the sum of all even numbers in the list.\n",
        "#answer:-\n",
        "def sum_even_numbers(numbers):\n",
        "    sum_even = 0\n",
        "    for num in numbers:\n",
        "        if num % 2 == 0:\n",
        "            sum_even += num\n",
        "    return sum_even\n"
      ],
      "metadata": {
        "id": "OMuzFPbEC-IE"
      },
      "execution_count": 3,
      "outputs": []
    },
    {
      "cell_type": "code",
      "source": [
        "#2. Create a Python function that accepts a string and returns the reverse of that string.\n",
        "#Answer:-\n",
        "def reverse_string(input_string):\n",
        "    return input_string[::-1]\n"
      ],
      "metadata": {
        "id": "1-YOQwCODGfZ"
      },
      "execution_count": 4,
      "outputs": []
    },
    {
      "cell_type": "code",
      "source": [
        " #3. Implement a Python function that takes a list of integers and returns a new list containing the squares of each number.\n",
        " #Anwer:-\n",
        " def square_numbers(numbers):\n",
        "    squared_numbers = [num ** 2 for num in numbers]\n",
        "    return squared_numbers"
      ],
      "metadata": {
        "id": "GKFOJuucDOOh"
      },
      "execution_count": null,
      "outputs": []
    },
    {
      "cell_type": "code",
      "source": [
        " #4. Write a Python function that checks if a given number is prime or not from 1 to 200\n",
        " #Answer:-\n",
        "def is_prime(n):\n",
        "    \"\"\"Check if a number is prime.\"\"\"\n",
        "    if n < 2:\n",
        "        return False\n",
        "    for i in range(2, int(n**0.5) + 1):\n",
        "        if n % i == 0:\n",
        "            return False\n",
        "    return True"
      ],
      "metadata": {
        "id": "958ty6bJDD99"
      },
      "execution_count": 5,
      "outputs": []
    },
    {
      "cell_type": "code",
      "source": [
        "#5. Create an iterator class in Python that generates the Fibonacci sequence up to a specified number of terms.\n",
        "#Answer:-\n",
        "class FibonacciIterator:\n",
        "    def __init__(self, num_terms):\n",
        "        self.num_terms = num_terms\n",
        "        self.current = 0\n",
        "        self.next = 1\n",
        "        self.count = 0\n",
        "\n",
        "    def __iter__(self):\n",
        "        return self\n",
        "\n",
        "    def __next__(self):\n",
        "        if self.count >= self.num_terms:\n",
        "            raise StopIteration\n",
        "\n",
        "        value = self.current\n",
        "        self.current, self.next = self.next, self.current + self.next\n",
        "        self.count += 1\n",
        "        return value"
      ],
      "metadata": {
        "id": "-QBAkpmBEXu-"
      },
      "execution_count": 6,
      "outputs": []
    },
    {
      "cell_type": "code",
      "source": [
        "#6. Write a generator function in Python that yields the powers of 2 up to a given exponent\n",
        "#Answer:-\n",
        "def powers_of_two(exponent):\n",
        "    for i in range(exponent + 1):\n",
        "        yield 2 ** i\n"
      ],
      "metadata": {
        "id": "clvI2DPRE2rl"
      },
      "execution_count": 7,
      "outputs": []
    },
    {
      "cell_type": "code",
      "source": [
        " #7. Implement a generator function that reads a file line by line and yields each line as a string\n",
        " #Answer:-\n",
        " def read_file_line_by_line(file_path):\n",
        "    \"\"\"Generator function that reads a file line by line and yields each line.\"\"\"\n",
        "    with open(file_path, 'r', encoding='utf-8') as file:\n",
        "        for line in file:\n",
        "            yield line.rstrip()  # Remove trailing newline characters"
      ],
      "metadata": {
        "id": "3XSHkUzyFJiT"
      },
      "execution_count": 8,
      "outputs": []
    },
    {
      "cell_type": "code",
      "source": [
        " #8. Use a lambda function in Python to sort a list of tuples based on the second element of each tuple.\n",
        " #Answer:-\n",
        "\n",
        "data = [(1, 3), (4, 1), (2, 2), (5, 0)]\n",
        "\n",
        "# Sorting based on the second element\n",
        "sorted_data = sorted(data, key=lambda x: x[1])\n",
        "\n",
        "print(sorted_data)"
      ],
      "metadata": {
        "colab": {
          "base_uri": "https://localhost:8080/"
        },
        "id": "dktpOdbZFSRu",
        "outputId": "9df77fb0-a93d-443b-ae0e-8b316eacfd20"
      },
      "execution_count": 10,
      "outputs": [
        {
          "output_type": "stream",
          "name": "stdout",
          "text": [
            "[(5, 0), (4, 1), (2, 2), (1, 3)]\n"
          ]
        }
      ]
    },
    {
      "cell_type": "code",
      "source": [
        " #9. Write a Python program that uses `map()` to convert a list of temperatures from Celsius to Fahrenheit.\n",
        " #Answer:-\n",
        " # Function to convert Celsius to Fahrenheit\n",
        "def celsius_to_fahrenheit(celsius):\n",
        "    return (celsius * 9/5) + 32\n",
        "\n",
        "# List of temperatures in Celsius\n",
        "celsius_temperatures = [0, 20, 37, 100]\n",
        "\n",
        "# Convert to Fahrenheit using map()\n",
        "fahrenheit_temperatures = list(map(celsius_to_fahrenheit, celsius_temperatures))"
      ],
      "metadata": {
        "id": "L3u_SEWmFa5W"
      },
      "execution_count": 11,
      "outputs": []
    },
    {
      "cell_type": "code",
      "source": [
        " #10. Create a Python program that uses `filter()` to remove all the vowels from a given string.\n",
        "#Answer:-\n",
        "def remove_vowels(s):\n",
        "    vowels = \"aeiouAEIOU\"\n",
        "    return \"\".join(filter(lambda ch: ch not in vowels, s))\n"
      ],
      "metadata": {
        "id": "oZyGEKf3Fl9i"
      },
      "execution_count": 12,
      "outputs": []
    },
    {
      "cell_type": "code",
      "source": [
        "\n",
        "#11:-Imagine an accounting routine used in a book shop. It works on a list with sublists, which look like this:\n",
        "\n",
        "#Answer:-\n",
        "# List of orders: [Order Number, Book Title, Quantity, Price per Item]\n",
        "orders = [\n",
        "    [34587, \"Learning Python, Mark Lutz\", 4, 40.95],\n",
        "    [98762, \"Programming Python, Mark Lutz\", 5, 56.80],\n",
        "    [77226, \"Head First Python, Paul Barry\", 3, 32.95],\n",
        "    [88112, \"Einführung in Python3, Bernd Klein\", 3, 24.99],\n",
        "]\n",
        "\n",
        "# Process orders\n",
        "order_summary = []\n",
        "for order in orders:\n",
        "    order_number, book_title, quantity, price_per_item = order\n",
        "    total_price = quantity * price_per_item  # Calculate total price\n",
        "    order_summary.append({\n",
        "        \"Order Number\": order_number,\n",
        "        \"Book Title\": book_title,\n",
        "        \"Quantity\": quantity,\n",
        "        \"Price per Item\": price_per_item,\n",
        "        \"Total Price\": round(total_price, 2)\n",
        "    })\n",
        "\n",
        "# Display results\n",
        "for order in order_summary:\n",
        "    print(f\"Order {order['Order Number']}: {order['Book Title']}\")\n",
        "    print(f\"  Quantity: {order['Quantity']}, Price per Item: ${order['Price per Item']}\")\n",
        "    print(f\"  Total Price: ${order['Total Price']}\\n\")"
      ],
      "metadata": {
        "colab": {
          "base_uri": "https://localhost:8080/"
        },
        "id": "qamDTsDyFv7j",
        "outputId": "0fca9665-d594-447e-fccd-ae00bf4e14c6"
      },
      "execution_count": 13,
      "outputs": [
        {
          "output_type": "stream",
          "name": "stdout",
          "text": [
            "Order 34587: Learning Python, Mark Lutz\n",
            "  Quantity: 4, Price per Item: $40.95\n",
            "  Total Price: $163.8\n",
            "\n",
            "Order 98762: Programming Python, Mark Lutz\n",
            "  Quantity: 5, Price per Item: $56.8\n",
            "  Total Price: $284.0\n",
            "\n",
            "Order 77226: Head First Python, Paul Barry\n",
            "  Quantity: 3, Price per Item: $32.95\n",
            "  Total Price: $98.85\n",
            "\n",
            "Order 88112: Einführung in Python3, Bernd Klein\n",
            "  Quantity: 3, Price per Item: $24.99\n",
            "  Total Price: $74.97\n",
            "\n"
          ]
        }
      ]
    },
    {
      "cell_type": "code",
      "source": [],
      "metadata": {
        "id": "nDUmHPoAGZ9a"
      },
      "execution_count": null,
      "outputs": []
    },
    {
      "cell_type": "code",
      "source": [],
      "metadata": {
        "id": "ipgwAIWBGZpT"
      },
      "execution_count": null,
      "outputs": []
    }
  ]
}