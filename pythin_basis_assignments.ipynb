{
  "nbformat": 4,
  "nbformat_minor": 0,
  "metadata": {
    "colab": {
      "provenance": []
    },
    "kernelspec": {
      "name": "python3",
      "display_name": "Python 3"
    },
    "language_info": {
      "name": "python"
    }
  },
  "cells": [
    {
      "cell_type": "markdown",
      "source": [
        "**Python Basis Assigments**"
      ],
      "metadata": {
        "id": "s3I8ccH07NEc"
      }
    },
    {
      "cell_type": "markdown",
      "source": [
        "1. What is Python, and why is it popular?\n",
        "-Python is a high-level, interpreted programming language known for its readability and simplicity. It supports multiple programming paradigms (procedural, object-oriented, and functional) and has an extensive standard library. Its popularity stems from:\n",
        "\n",
        "Ease of Learning: Simple syntax that resembles English.\n",
        "\n",
        "Versatility: Used in web development, data science, automation, artificial intelligence, and more.\n",
        "\n",
        "Community & Ecosystem: A large, active community, rich frameworks, and libraries.\n",
        "\n",
        "Rapid Development: Allows quick prototyping and iterative development.\n",
        "\n",
        "\n",
        "2. What is an interpreter in Python?\n",
        "- An interpreter in Python is a program that reads and executes Python code line by line. It translates high-level code into machine instructions on the fly. Unlike compiled languages, Python code is executed directly, which can simplify debugging and development.\n",
        "\n",
        "3. What are pre-defined keywords in Python?\n",
        "- Pre-defined keywords are reserved words in Python that have special meaning and are part of the language’s syntax. Examples include if, else, while, for, def, class, return, and import. They cannot be used for any other purpose.\n",
        "\n",
        "4. Can keywords be used as variable names?\n",
        "- No, keywords cannot be used as variable names because they are reserved by the language to define its syntax and structure. Attempting to use them as identifiers will result in a syntax error.\n",
        "\n",
        "5. What is mutability in Python?\n",
        "- Mutability refers to the ability of an object to change its state or contents after it is created. Mutable objects (like lists and dictionaries) can be modified, while immutable objects (like tuples and strings) cannot be changed once created.\n",
        "\n",
        "6. Why are lists mutable, but tuples are immutable?\n",
        "- Lists are designed to be dynamic collections that can be altered—items can be added, removed, or changed—which is why they are mutable.\n",
        "\n",
        "Tuples, on the other hand, are intended to be fixed collections of items. Their immutability ensures that their content remains constant, making them suitable for use as keys in dictionaries and for representing fixed data.\n",
        "\n",
        "7. What is the difference between “==” and “is” operators in Python?\n",
        "- == Operator: Checks for value equality; it compares the contents of the objects to see if they are equivalent.\n",
        "\n",
        "is Operator: Checks for identity; it verifies whether both operands refer to the same object in memory.\n",
        "\n",
        "8. What are logical operators in Python?\n",
        "- Logical operators in Python are used to combine conditional statements. The primary logical operators are:\n",
        "\n",
        "and: Returns True if both operands are true.\n",
        "\n",
        "or: Returns True if at least one operand is true.\n",
        "\n",
        "not: Reverses the boolean value of the operand.\n",
        "\n",
        "9. What is type casting in Python?\n",
        "- Type casting is the process of converting a variable from one data type to another. In Python, you can convert types explicitly using functions like int(), float(), str(), etc., to change a variable's type to a desired one.\n",
        "\n",
        "10. What is the difference between implicit and explicit type casting?\n",
        "- Implicit Type Casting: Also known as coercion, it is done automatically by Python when it is safe and lossless (e.g., converting an int to a float during arithmetic operations).\n",
        "\n",
        "Explicit Type Casting: The programmer manually converts data types using functions like int(), str(), etc., when automatic conversion is not performed or might lead to data loss.\n",
        "\n",
        "11. What is the purpose of conditional statements in Python?\n",
        "- Conditional statements allow a program to execute different blocks of code based on certain conditions. They help in decision-making by running specific code segments if the evaluated conditions are True (using statements like if, elif, and else).\n",
        "\n",
        "12. How does the elif statement work?\n",
        "- The elif (short for \"else if\") statement allows you to check multiple conditions sequentially. If the if condition is False, Python checks each elif condition in order. The first condition that evaluates to True will execute its corresponding block, and the rest are skipped.\n",
        "\n",
        "13. What is the difference between for and while loops?\n",
        "- For Loop: Iterates over a sequence (like a list, tuple, or string) or any iterable object. It is best when the number of iterations is known in advance.\n",
        "\n",
        "While Loop: Repeats a block of code as long as a condition remains true. It is ideal when the number of iterations is not predetermined and depends on dynamic conditions.\n",
        "\n",
        "14. Describe a scenario where a while loop is more suitable than a for loop.\n",
        "- A while loop is more suitable in scenarios where the termination condition depends on dynamic user input or real-time events. For example, consider a program that continuously accepts user commands until the user types \"exit\". Here, the number of iterations is not known beforehand, making a while loop the ideal choice:\n",
        "\n",
        "python\n",
        "Copy code\n",
        "command = \"\"\n",
        "while command.lower() != \"exit\":\n",
        "    command = input(\"Enter a command (or type 'exit' to quit): \")\n",
        "    # Process the command here\n",
        "In this example, the loop runs until the condition (command.lower() != \"exit\") is no longer true"
      ],
      "metadata": {
        "id": "Cr-s-V1m7jE4"
      }
    },
    {
      "cell_type": "markdown",
      "source": [],
      "metadata": {
        "id": "QKWS5_Qx7XYu"
      }
    },
    {
      "cell_type": "markdown",
      "source": [],
      "metadata": {
        "id": "pX4Hf3CW7Wxm"
      }
    },
    {
      "cell_type": "markdown",
      "source": [],
      "metadata": {
        "id": "5n-j-mfl7Gbr"
      }
    },
    {
      "cell_type": "code",
      "source": [
        "#question 1:-  Write a Python program to print \"Hello, World!\n",
        "### This is Answer ###\n",
        "p='hello world'\n",
        "print(p)\n"
      ],
      "metadata": {
        "colab": {
          "base_uri": "https://localhost:8080/"
        },
        "id": "LwnRpNV07Q_O",
        "outputId": "1a1204c4-04f9-41e8-f4a8-585a66b72967"
      },
      "execution_count": 5,
      "outputs": [
        {
          "output_type": "stream",
          "name": "stdout",
          "text": [
            "hello world\n"
          ]
        }
      ]
    },
    {
      "cell_type": "code",
      "source": [
        " #question 2:-Write a Python program that displays your name and age\n",
        " ### This is Answer ###\n",
        " emp={\"Name\":\"Mayank\", \"Age\":30}\n",
        " emp"
      ],
      "metadata": {
        "colab": {
          "base_uri": "https://localhost:8080/"
        },
        "id": "x28txoWK81lu",
        "outputId": "999d1004-5ebb-482c-c13b-ca0f3b4e7561"
      },
      "execution_count": 6,
      "outputs": [
        {
          "output_type": "execute_result",
          "data": {
            "text/plain": [
              "{'Name': 'Mayank', 'Age': 30}"
            ]
          },
          "metadata": {},
          "execution_count": 6
        }
      ]
    },
    {
      "cell_type": "code",
      "source": [
        "#question 3:- Write code to print all the pre-defined keywords in Python using the keyword library\n",
        " ### This is Answer ###\n",
        "import keyword\n",
        "\n",
        "for kw in keyword.kwlist:\n",
        "    print(kw)\n"
      ],
      "metadata": {
        "colab": {
          "base_uri": "https://localhost:8080/"
        },
        "id": "CbL47YJ29FUo",
        "outputId": "d17971a5-b45c-44bf-8ab5-1f427f3134ed"
      },
      "execution_count": 8,
      "outputs": [
        {
          "output_type": "stream",
          "name": "stdout",
          "text": [
            "False\n",
            "None\n",
            "True\n",
            "and\n",
            "as\n",
            "assert\n",
            "async\n",
            "await\n",
            "break\n",
            "class\n",
            "continue\n",
            "def\n",
            "del\n",
            "elif\n",
            "else\n",
            "except\n",
            "finally\n",
            "for\n",
            "from\n",
            "global\n",
            "if\n",
            "import\n",
            "in\n",
            "is\n",
            "lambda\n",
            "nonlocal\n",
            "not\n",
            "or\n",
            "pass\n",
            "raise\n",
            "return\n",
            "try\n",
            "while\n",
            "with\n",
            "yield\n"
          ]
        }
      ]
    },
    {
      "cell_type": "code",
      "source": [
        " #question 4:-Write a program that checks if a given word is a Python keyword\n",
        " ### This is Answer ###\n",
        " import keyword\n",
        "\n",
        "word = input(\"Enter a word to check if it is a Python keyword: \")\n",
        "\n",
        "if keyword.iskeyword(word):\n",
        "    print(f\"'{word}' is a Python keyword.\")\n",
        "else:\n",
        "    print(f\"'{word}' is not a Python keyword.\")"
      ],
      "metadata": {
        "colab": {
          "base_uri": "https://localhost:8080/"
        },
        "id": "dsnZOSuH9Ykg",
        "outputId": "39d14965-ec47-45a6-b981-4646c5946c72"
      },
      "execution_count": 9,
      "outputs": [
        {
          "output_type": "stream",
          "name": "stdout",
          "text": [
            "Enter a word to check if it is a Python keyword: yield\n",
            "'yield' is a Python keyword.\n"
          ]
        }
      ]
    },
    {
      "cell_type": "code",
      "source": [
        "#question 5:-Create a list and tuple in Python, and demonstrate how attempting to change an element works differently\n",
        "#for each\n",
        " ### This is Answer ###\n",
        "lis=[1,2,3,4,5] #list\n",
        "lis[1]=5\n",
        "lis   #change 5 instead of 2\n",
        "\n",
        "Tuple1=(1,2,\"Ajay,8\")\n",
        "Tuple1[0]=2 # error when tyring to modify"
      ],
      "metadata": {
        "colab": {
          "base_uri": "https://localhost:8080/",
          "height": 176
        },
        "id": "EVbsrlV09pim",
        "outputId": "3c9d0a13-b861-4ba4-f8f1-81e300cfb619"
      },
      "execution_count": 20,
      "outputs": [
        {
          "output_type": "error",
          "ename": "TypeError",
          "evalue": "'tuple' object does not support item assignment",
          "traceback": [
            "\u001b[0;31m---------------------------------------------------------------------------\u001b[0m",
            "\u001b[0;31mTypeError\u001b[0m                                 Traceback (most recent call last)",
            "\u001b[0;32m<ipython-input-20-370721c94aa1>\u001b[0m in \u001b[0;36m<cell line: 0>\u001b[0;34m()\u001b[0m\n\u001b[1;32m      7\u001b[0m \u001b[0;34m\u001b[0m\u001b[0m\n\u001b[1;32m      8\u001b[0m \u001b[0mTuple1\u001b[0m\u001b[0;34m=\u001b[0m\u001b[0;34m(\u001b[0m\u001b[0;36m1\u001b[0m\u001b[0;34m,\u001b[0m\u001b[0;36m2\u001b[0m\u001b[0;34m,\u001b[0m\u001b[0;34m\"Ajay,8\"\u001b[0m\u001b[0;34m)\u001b[0m\u001b[0;34m\u001b[0m\u001b[0;34m\u001b[0m\u001b[0m\n\u001b[0;32m----> 9\u001b[0;31m \u001b[0mTuple1\u001b[0m\u001b[0;34m[\u001b[0m\u001b[0;36m0\u001b[0m\u001b[0;34m]\u001b[0m\u001b[0;34m=\u001b[0m\u001b[0;36m2\u001b[0m\u001b[0;34m\u001b[0m\u001b[0;34m\u001b[0m\u001b[0m\n\u001b[0m",
            "\u001b[0;31mTypeError\u001b[0m: 'tuple' object does not support item assignment"
          ]
        }
      ]
    },
    {
      "cell_type": "code",
      "source": [
        "import math as m"
      ],
      "metadata": {
        "id": "4XMN2Z7nAJg8"
      },
      "execution_count": 29,
      "outputs": []
    },
    {
      "cell_type": "code",
      "source": [],
      "metadata": {
        "id": "sj6MFpjPAV4j"
      },
      "execution_count": null,
      "outputs": []
    },
    {
      "cell_type": "code",
      "source": [],
      "metadata": {
        "id": "szfFyHolANFh"
      },
      "execution_count": null,
      "outputs": []
    },
    {
      "cell_type": "code",
      "source": [
        "#question 6:- Write a function to demonstrate the behavior of mutable and immutable arguments\n",
        " ### This is Answer ###\n",
        "  def modify_values(immutable_arg, mutable_arg):\n",
        "    print(\"Inside function, before modification:\")\n",
        "    print(\"immutable_arg =\", immutable_arg)\n",
        "    print(\"mutable_arg =\", mutable_arg)\n",
        "\n",
        "    # Modify the mutable argument (e.g., list) by appending an element.\n",
        "    mutable_arg.append(100)\n",
        "\n",
        "    # Modify the immutable argument (e.g., int) by reassigning it.\n",
        "    immutable_arg += 10\n",
        "\n",
        "    print(\"\\nInside function, after modification:\")\n",
        "    print(\"immutable_arg =\", immutable_arg)\n",
        "    print(\"mutable_arg =\", mutable_arg)\n",
        "\n",
        "# Main program\n",
        "num = 50          # Immutable argument (an integer)\n",
        "lst = [1, 2, 3]   # Mutable argument (a list)\n",
        "\n",
        "print(\"Before function call:\")\n",
        "print(\"num =\", num)\n",
        "print(\"lst =\", lst)\n",
        "\n",
        "modify_values(num, lst)\n",
        "\n",
        "print(\"\\nAfter function call:\")\n",
        "print(\"num =\", num)  # num remains unchanged\n",
        "print(\"lst =\", lst)  # lst reflects the change made inside the function\n"
      ],
      "metadata": {
        "colab": {
          "base_uri": "https://localhost:8080/",
          "height": 106
        },
        "id": "v9jNzuO--pAY",
        "outputId": "24f80847-4cfe-42d9-f52d-416959925536"
      },
      "execution_count": 28,
      "outputs": [
        {
          "output_type": "error",
          "ename": "IndentationError",
          "evalue": "unexpected indent (<ipython-input-28-8f380488e816>, line 3)",
          "traceback": [
            "\u001b[0;36m  File \u001b[0;32m\"<ipython-input-28-8f380488e816>\"\u001b[0;36m, line \u001b[0;32m3\u001b[0m\n\u001b[0;31m    def modify_values(immutable_arg, mutable_arg):\u001b[0m\n\u001b[0m    ^\u001b[0m\n\u001b[0;31mIndentationError\u001b[0m\u001b[0;31m:\u001b[0m unexpected indent\n"
          ]
        }
      ]
    },
    {
      "cell_type": "code",
      "source": [],
      "metadata": {
        "id": "1s_LFPSkAOje"
      },
      "execution_count": null,
      "outputs": []
    },
    {
      "cell_type": "code",
      "source": [
        "#question 7:- Write a function to demonstrate the behavior of mutable and immutable arguments\n",
        " ### This is Answer ###\n",
        "  def modify_values(immutable_arg, mutable_arg):\n",
        "    print(\"Inside function, before modification:\")\n",
        "    print(\"immutable_arg =\", immutable_arg)\n",
        "    print(\"mutable_arg =\", mutable_arg)\n",
        "\n",
        "    # Modify the mutable argument (e.g., list) by appending an element.\n",
        "    mutable_arg.append(100)\n",
        "\n",
        "    # Modify the immutable argument (e.g., int) by reassigning it.\n",
        "    immutable_arg += 10\n",
        "\n",
        "    print(\"\\nInside function, after modification:\")\n",
        "    print(\"immutable_arg =\", immutable_arg)\n",
        "    print(\"mutable_arg =\", mutable_arg)\n",
        "\n",
        "# Main program\n",
        "num = 50          # Immutable argument (an integer)\n",
        "lst = [1, 2, 3]   # Mutable argument (a list)\n",
        "\n",
        "print(\"Before function call:\")\n",
        "print(\"num =\", num)\n",
        "print(\"lst =\", lst)\n",
        "\n",
        "modify_values(num, lst)\n",
        "\n",
        "print(\"\\nAfter function call:\")\n",
        "print(\"num =\", num)  # num remains unchanged\n",
        "print(\"lst =\", lst)  # lst reflects the change made inside the function\n"
      ],
      "metadata": {
        "id": "Et2doALP_BB_"
      },
      "execution_count": null,
      "outputs": []
    },
    {
      "cell_type": "code",
      "source": [
        "#question 8:- Write a program to demonstrate the use of logical operators\n",
        " ### This is Answer ###\n",
        "def logical_operators_demo():\n",
        "    # Input two numbers\n",
        "    x = float(input(\"Enter a number for x: \"))\n",
        "    y = float(input(\"Enter a number for y: \"))\n",
        "\n",
        "    # Demonstrate the 'and' operator:\n",
        "    # Both conditions must be True for the entire expression to be True.\n",
        "    if x > 0 and y > 0:\n",
        "        print(\"Both x and y are positive (using and).\")\n",
        "    else:\n",
        "        print(\"At least one of x or y is not positive (using and).\")\n",
        "\n",
        "    # Demonstrate the 'or' operator:\n",
        "    # At least one condition must be True for the entire expression to be True.\n",
        "    if x > 0 or y > 0:\n",
        "        print(\"At least one of x or y is positive (using or).\")\n",
        "    else:\n",
        "        print(\"Neither x nor y is positive (using or).\")\n",
        "\n",
        "    # Demonstrate the 'not' operator:\n",
        "    # It inverts the Boolean value of the condition.\n",
        "    if not (x < 0):\n",
        "        print(\"x is not negative (using not).\")\n",
        "    else:\n",
        "        print(\"x is negative (using not).\")"
      ],
      "metadata": {
        "id": "VS1RUzZK--7R"
      },
      "execution_count": 31,
      "outputs": []
    },
    {
      "cell_type": "code",
      "source": [
        "#question 9:- Write a program to demonstrate the use of logical operators\n",
        " ### This is Answer ###\n",
        "user_input = input(\"Enter a value: \")\n",
        "\n",
        "# Convert to integer\n",
        "try:\n",
        "    int_value = int(user_input)\n",
        "except ValueError:\n",
        "    int_value = None  # Conversion failed\n",
        "\n",
        "# Convert to float\n",
        "try:\n",
        "    float_value = float(user_input)\n",
        "except ValueError:\n",
        "    float_value = None  # Conversion failed\n",
        "\n",
        "# Convert to boolean\n",
        "# Here, we treat the strings \"true\" and \"false\" (case-insensitive) as special cases.\n",
        "if user_input.lower() == \"true\":\n",
        "    bool_value = True\n",
        "elif user_input.lower() == \"false\":\n",
        "    bool_value = False\n",
        "else:\n",
        "    # For other inputs, non-empty strings evaluate to True, empty strings to False\n",
        "    bool_value = bool(user_input)\n",
        "\n",
        "print(\"Original input:\", user_input)\n",
        "print(\"Converted to integer:\", int_value)\n",
        "print(\"Converted to float:\", float_value)\n",
        "print(\"Converted to boolean:\", bool_value)"
      ],
      "metadata": {
        "colab": {
          "base_uri": "https://localhost:8080/"
        },
        "id": "Lzkn14AZAc4-",
        "outputId": "b67e1418-e95c-41b9-ea06-7cd7d4dff6b8"
      },
      "execution_count": 33,
      "outputs": [
        {
          "output_type": "stream",
          "name": "stdout",
          "text": [
            "Enter a value: 34\n",
            "Original input: 34\n",
            "Converted to integer: 34\n",
            "Converted to float: 34.0\n",
            "Converted to boolean: True\n"
          ]
        }
      ]
    },
    {
      "cell_type": "code",
      "source": [
        "#question 10:- Write code to demonstrate type casting with list elem\n",
        " ### This is Answer ###\n",
        "# Sample list containing elements of different types\n",
        "mixed_list = [\"10\", 20.5, \"30\", \"40.8\", 50]\n",
        "\n",
        "# Converting all elements to integers\n",
        "int_list = [int(float(item)) for item in mixed_list]\n",
        "print(\"Integer List:\", int_list)\n",
        "\n",
        "# Converting all elements to floats\n",
        "float_list = [float(item) for item in mixed_list]\n",
        "print(\"Float List:\", float_list)\n",
        "\n",
        "# Converting all elements to strings\n",
        "string_list = [str(item) for item in mixed_list]\n",
        "print(\"String List:\", string_list)\n",
        "\n",
        "# Demonstrating type casting failure handling\n",
        "safe_int_list = []\n",
        "for item in mixed_list:\n",
        "    try:\n",
        "        safe_int_list.append(int(float(item)))\n",
        "    except ValueError:\n",
        "        safe_int_list.append(None)  # Handling non-convertible items\n",
        "\n",
        "print(\"Safely Converted Integer List:\", safe_int_list)"
      ],
      "metadata": {
        "colab": {
          "base_uri": "https://localhost:8080/"
        },
        "id": "ixFTCB5_AoaZ",
        "outputId": "ddbdf6fb-7b68-47c7-8847-4a1b12980232"
      },
      "execution_count": 37,
      "outputs": [
        {
          "output_type": "stream",
          "name": "stdout",
          "text": [
            "Integer List: [10, 20, 30, 40, 50]\n",
            "Float List: [10.0, 20.5, 30.0, 40.8, 50.0]\n",
            "String List: ['10', '20.5', '30', '40.8', '50']\n",
            "Safely Converted Integer List: [10, 20, 30, 40, 50]\n"
          ]
        }
      ]
    },
    {
      "cell_type": "code",
      "source": [
        "#question 11:- Write a program that checks if a number is positive, negative, or zero\n",
        " ### This is Answer ###\n",
        "\n",
        "def check_number(num):\n",
        "    if num > 0:\n",
        "        return \"The number is positive.\"\n",
        "    elif num < 0:\n",
        "        return \"The number is negative.\"\n",
        "    else:\n",
        "        return \"The number is zero.\"\n",
        "\n",
        "# Taking user input\n",
        "try:\n",
        "    number = float(input(\"Enter a number: \"))\n",
        "    print(check_number(number))\n",
        "except ValueError:\n",
        "    print(\"Invalid input! Please enter a valid number.\")"
      ],
      "metadata": {
        "colab": {
          "base_uri": "https://localhost:8080/"
        },
        "id": "Wh2vLHgBDlB3",
        "outputId": "a269aebb-90d2-4057-e288-ffd7be436be7"
      },
      "execution_count": 39,
      "outputs": [
        {
          "output_type": "stream",
          "name": "stdout",
          "text": [
            "Enter a number: 2333\n",
            "The number is positive.\n"
          ]
        }
      ]
    },
    {
      "cell_type": "code",
      "source": [
        "#Question 12:-Write a for loop to print numbers from 1 to 10\n",
        "#this is answer#\n",
        "for i in range(1, 11):\n",
        "    print(i)"
      ],
      "metadata": {
        "colab": {
          "base_uri": "https://localhost:8080/"
        },
        "id": "YDcL-iVlEuj4",
        "outputId": "ed57bd59-ffa7-473a-d259-b224f3ed3e7c"
      },
      "execution_count": 40,
      "outputs": [
        {
          "output_type": "stream",
          "name": "stdout",
          "text": [
            "1\n",
            "2\n",
            "3\n",
            "4\n",
            "5\n",
            "6\n",
            "7\n",
            "8\n",
            "9\n",
            "10\n"
          ]
        }
      ]
    },
    {
      "cell_type": "code",
      "source": [
        "#Question 13:- Write a Python program to find the sum of all even numbers between 1 and 50\n",
        "#this is answer#\n",
        "sum_even = 0\n",
        "for num in range(2, 51, 2):\n",
        "    sum_even += num\n",
        "print(\"The sum of even numbers from 1 to 50 is:\", sum_even)\n",
        "\n"
      ],
      "metadata": {
        "colab": {
          "base_uri": "https://localhost:8080/"
        },
        "id": "XudEilCJE8Se",
        "outputId": "7a0f3b70-9f12-4e17-f3a0-b2c7df2a9a29"
      },
      "execution_count": 41,
      "outputs": [
        {
          "output_type": "stream",
          "name": "stdout",
          "text": [
            "The sum of even numbers from 1 to 50 is: 650\n"
          ]
        }
      ]
    },
    {
      "cell_type": "code",
      "source": [
        "#Question 14:- Write a program to reverse a string using a while loop\n",
        "#this is answer#\n",
        "input_string = input(\"Enter a string: \")\n",
        "reversed_string = \"\"\n",
        "index = len(input_string) - 1\n",
        "\n",
        "while index >= 0:\n",
        "    reversed_string += input_string[index]\n",
        "    index -= 1"
      ],
      "metadata": {
        "colab": {
          "base_uri": "https://localhost:8080/"
        },
        "id": "xUebsJQsFlkj",
        "outputId": "5c24ad01-ad9b-4df6-e541-e71279a57877"
      },
      "execution_count": 42,
      "outputs": [
        {
          "name": "stdout",
          "output_type": "stream",
          "text": [
            "Enter a string: mayank\n"
          ]
        }
      ]
    },
    {
      "cell_type": "code",
      "source": [
        "#Question 15:- Write a Python program to calculate the factorial of a number provided by the user using a while loople loop\n",
        "#this is answer#\n",
        "def factorial(n):\n",
        "    result = 1\n",
        "    while n > 0:\n",
        "        result *= n\n",
        "        n -= 1\n",
        "\n",
        "factorial(5)\n",
        "\n"
      ],
      "metadata": {
        "id": "kLHWgRC-FtQL"
      },
      "execution_count": 45,
      "outputs": []
    },
    {
      "cell_type": "code",
      "source": [],
      "metadata": {
        "id": "R6qETIM6F-eH"
      },
      "execution_count": null,
      "outputs": []
    },
    {
      "cell_type": "code",
      "source": [],
      "metadata": {
        "id": "DixTb_IUF7_1"
      },
      "execution_count": null,
      "outputs": []
    },
    {
      "cell_type": "code",
      "source": [],
      "metadata": {
        "id": "yf6qX0YWF5mb"
      },
      "execution_count": null,
      "outputs": []
    },
    {
      "cell_type": "code",
      "source": [],
      "metadata": {
        "id": "PWXWy-1vF4Ph"
      },
      "execution_count": null,
      "outputs": []
    },
    {
      "cell_type": "code",
      "source": [],
      "metadata": {
        "id": "ND-9Q7GqEZwL"
      },
      "execution_count": null,
      "outputs": []
    },
    {
      "cell_type": "code",
      "source": [],
      "metadata": {
        "id": "B5XJj-BIDSH7"
      },
      "execution_count": null,
      "outputs": []
    },
    {
      "cell_type": "code",
      "source": [],
      "metadata": {
        "id": "FANkcqkxDNFb"
      },
      "execution_count": null,
      "outputs": []
    },
    {
      "cell_type": "code",
      "source": [],
      "metadata": {
        "id": "VKftx0F9DMEh"
      },
      "execution_count": null,
      "outputs": []
    },
    {
      "cell_type": "code",
      "source": [],
      "metadata": {
        "id": "M28MGargAmMh"
      },
      "execution_count": null,
      "outputs": []
    },
    {
      "cell_type": "code",
      "source": [],
      "metadata": {
        "id": "FPfNejGAAljY"
      },
      "execution_count": null,
      "outputs": []
    },
    {
      "cell_type": "code",
      "source": [],
      "metadata": {
        "id": "v5LFIKFTAbUP"
      },
      "execution_count": null,
      "outputs": []
    },
    {
      "cell_type": "code",
      "source": [],
      "metadata": {
        "id": "ClwaKkmi_9Ev"
      },
      "execution_count": null,
      "outputs": []
    },
    {
      "cell_type": "code",
      "source": [],
      "metadata": {
        "id": "7En9Lokj-8TF"
      },
      "execution_count": null,
      "outputs": []
    },
    {
      "cell_type": "code",
      "source": [],
      "metadata": {
        "id": "LiMWPkWx-fGe"
      },
      "execution_count": null,
      "outputs": []
    },
    {
      "cell_type": "code",
      "source": [],
      "metadata": {
        "id": "_4Q6igsy-egl"
      },
      "execution_count": null,
      "outputs": []
    },
    {
      "cell_type": "code",
      "source": [],
      "metadata": {
        "id": "9RQsfPcF-avu"
      },
      "execution_count": null,
      "outputs": []
    },
    {
      "cell_type": "code",
      "source": [],
      "metadata": {
        "id": "68ClcFeJ-UWJ"
      },
      "execution_count": null,
      "outputs": []
    },
    {
      "cell_type": "code",
      "source": [],
      "metadata": {
        "id": "aSwcBE9a-TlX"
      },
      "execution_count": null,
      "outputs": []
    },
    {
      "cell_type": "code",
      "source": [],
      "metadata": {
        "id": "sKAe4y3g-RcU"
      },
      "execution_count": null,
      "outputs": []
    },
    {
      "cell_type": "code",
      "source": [],
      "metadata": {
        "id": "h5gCSCus-GQv"
      },
      "execution_count": null,
      "outputs": []
    },
    {
      "cell_type": "code",
      "source": [],
      "metadata": {
        "id": "q0hrjNMI-EhD"
      },
      "execution_count": null,
      "outputs": []
    },
    {
      "cell_type": "code",
      "source": [],
      "metadata": {
        "id": "tLMqne65-DHj"
      },
      "execution_count": null,
      "outputs": []
    },
    {
      "cell_type": "code",
      "source": [],
      "metadata": {
        "id": "G3H2_oih-BuQ"
      },
      "execution_count": null,
      "outputs": []
    },
    {
      "cell_type": "code",
      "source": [],
      "metadata": {
        "id": "lAzMga6G9Xir"
      },
      "execution_count": null,
      "outputs": []
    },
    {
      "cell_type": "code",
      "source": [],
      "metadata": {
        "id": "iT3kE8jp8yyh"
      },
      "execution_count": null,
      "outputs": []
    },
    {
      "cell_type": "code",
      "source": [],
      "metadata": {
        "id": "7Kkup0Zx8w5X"
      },
      "execution_count": null,
      "outputs": []
    },
    {
      "cell_type": "code",
      "source": [],
      "metadata": {
        "id": "sXFp6GF_8tGu"
      },
      "execution_count": null,
      "outputs": []
    },
    {
      "cell_type": "code",
      "source": [],
      "metadata": {
        "id": "q0Zcnn4R8mpp"
      },
      "execution_count": null,
      "outputs": []
    },
    {
      "cell_type": "markdown",
      "source": [],
      "metadata": {
        "id": "bs9rX8t97D6u"
      }
    }
  ]
}